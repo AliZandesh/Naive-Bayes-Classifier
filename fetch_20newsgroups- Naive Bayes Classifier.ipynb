{
 "cells": [
  {
   "cell_type": "code",
   "execution_count": 1,
   "metadata": {},
   "outputs": [],
   "source": [
    "import numpy as np, pandas as pd\n",
    "import seaborn as sns\n",
    "import matplotlib.pyplot as plt\n",
    "from sklearn.datasets import fetch_20newsgroups\n",
    "from sklearn.feature_extraction.text import TfidfVectorizer\n",
    "from sklearn.naive_bayes import MultinomialNB\n",
    "from sklearn.pipeline import make_pipeline\n",
    "from sklearn.metrics import confusion_matrix, accuracy_score\n",
    "sns.set() # use seaborn plotting style"
   ]
  },
  {
   "cell_type": "code",
   "execution_count": 2,
   "metadata": {},
   "outputs": [],
   "source": [
    "# # We will now load the data (training and test data):\n",
    "\n",
    "# # Now Load the dataset\n",
    "# data_ = fetch_20newsgroups()\n",
    "# # Get the text categories in action\n",
    "# text_categories_ = data_.target_names\n",
    "# # Now we define the training set\n",
    "# train_data_ = fetch_20newsgroups(subset=\"train\", categories=text_categories_)\n",
    "# # define the test set\n",
    "# test_data_ = fetch_20newsgroups(subset=\"test\", categories=text_categories_)"
   ]
  },
  {
   "cell_type": "code",
   "execution_count": 3,
   "metadata": {},
   "outputs": [],
   "source": [
    "# print(\"Number of unique classes {}\".format(len(text_categories_)))\n",
    "# print(\"Number of training samples {} \".format(len(train_data_.data_)))\n",
    "# # print(\"Number of test samples {}\".format(len(test_data_.data_)))"
   ]
  },
  {
   "cell_type": "markdown",
   "metadata": {},
   "source": []
  }
 ],
 "metadata": {
  "kernelspec": {
   "display_name": "Python 3",
   "language": "python",
   "name": "python3"
  },
  "language_info": {
   "codemirror_mode": {
    "name": "ipython",
    "version": 3
   },
   "file_extension": ".py",
   "mimetype": "text/x-python",
   "name": "python",
   "nbconvert_exporter": "python",
   "pygments_lexer": "ipython3",
   "version": "3.11.2"
  },
  "orig_nbformat": 4
 },
 "nbformat": 4,
 "nbformat_minor": 2
}
